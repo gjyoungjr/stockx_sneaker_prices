{
 "cells": [
  {
   "cell_type": "markdown",
   "id": "3b0c014a-dbe4-4e11-981c-55e5a67eb7d2",
   "metadata": {},
   "source": [
    "# **📈 Predicting StockX Sneaker Prices using SageMaker DeepAR**\n",
    "---\n",
    "----"
   ]
  },
  {
   "cell_type": "markdown",
   "id": "67f6be66-0d2a-4e0a-b7fb-aa6062c27d62",
   "metadata": {},
   "source": [
    "## Contents\n",
    "\n",
    "1. [Background](#Background)\n",
    "1. [Setup](#Setup)\n",
    "1. [Data](#Data)\n",
    "\n",
    "---"
   ]
  },
  {
   "cell_type": "markdown",
   "id": "33be12e9-2505-4e32-a27e-ec71cfeb5069",
   "metadata": {
    "jp-MarkdownHeadingCollapsed": true,
    "tags": []
   },
   "source": [
    "## Background \n",
    "This notebook demonstrates time series forecasting using the Amazon SageMaker DeepAR alogrithm by analyzing Stockx sneaker prices.  \n",
    "\n",
    "\n",
    "__Disclaimer__: Please note that I am a newbie to AI/ML. I built this project so I can further my own learning in Machine Learning. I am sharing it because I hope it can assist someone who is also on a similar journey as I am. \n",
    "\n",
    "---"
   ]
  },
  {
   "cell_type": "markdown",
   "id": "8c1b183a-ed7a-4412-a265-171c11e9fae1",
   "metadata": {},
   "source": [
    "## Setup \n",
    "This notebook was created and tested on a ml.m4.xlarge instance. \n",
    "\n"
   ]
  },
  {
   "cell_type": "markdown",
   "id": "5faca333-25af-458a-810a-f410896b5385",
   "metadata": {},
   "source": [
    "### Enable Kaggle Tools \n",
    "\n",
    "What is Kaggle? Kaggle allows users to find and publish data sets, explore and build models in a web-based data-science environment, work with other data scientists and machine learning engineers, and enter competitions to solve data science challenges. You can find out more about Kaggle on their [website](https://www.kaggle.com/). \n",
    "\n",
    "We will be using Kaggle to download the Stockx sneaker sales dataset."
   ]
  },
  {
   "cell_type": "markdown",
   "id": "c09e98af-ad1c-41dd-938f-3897d7381402",
   "metadata": {},
   "source": [
    "### Install Kaggle CLI"
   ]
  },
  {
   "cell_type": "code",
   "execution_count": 2,
   "id": "e0a80034-c9c2-483e-82fc-ca622aa30db8",
   "metadata": {},
   "outputs": [
    {
     "name": "stdout",
     "output_type": "stream",
     "text": [
      "\u001b[33mWARNING: Running pip as the 'root' user can result in broken permissions and conflicting behaviour with the system package manager. It is recommended to use a virtual environment instead: https://pip.pypa.io/warnings/venv\u001b[0m\u001b[33m\n",
      "\u001b[0m\n",
      "\u001b[1m[\u001b[0m\u001b[34;49mnotice\u001b[0m\u001b[1;39;49m]\u001b[0m\u001b[39;49m A new release of pip available: \u001b[0m\u001b[31;49m22.2.2\u001b[0m\u001b[39;49m -> \u001b[0m\u001b[32;49m22.3.1\u001b[0m\n",
      "\u001b[1m[\u001b[0m\u001b[34;49mnotice\u001b[0m\u001b[1;39;49m]\u001b[0m\u001b[39;49m To update, run: \u001b[0m\u001b[32;49mpip install --upgrade pip\u001b[0m\n"
     ]
    }
   ],
   "source": [
    "!pip install --q kaggle "
   ]
  },
  {
   "cell_type": "markdown",
   "id": "b835cfc5-45d6-4d94-a475-e4fe2b715b65",
   "metadata": {},
   "source": [
    "To use Kaggle API, you must have an account and an API token. You can register for a Kaggle account [here](https://www.kaggle.com/docs/api) and generate your API token, it is completely free. "
   ]
  },
  {
   "cell_type": "code",
   "execution_count": 3,
   "id": "42df2b65-0bde-4801-b6bb-26769088d059",
   "metadata": {},
   "outputs": [],
   "source": [
    "!touch ~/.kaggle/kaggle.json # Creates json file to store Kaggle API Credentials\n",
    "kaggle_api_token = {\"username\":\"gilbertyoungjr\",\"key\":\"9c1e0b76bd43718e8bf816ac26e05824\"}  # Insert your own username and API Key here"
   ]
  },
  {
   "cell_type": "code",
   "execution_count": 4,
   "id": "708bab52-5993-417f-af9d-471f2a5cff52",
   "metadata": {},
   "outputs": [],
   "source": [
    "import json \n",
    "\n",
    "# Writes API Credentials to Kaggle file\n",
    "with open('/root/.kaggle/kaggle.json', 'w') as file: \n",
    "    json.dump(kaggle_api_token,file)\n",
    "    "
   ]
  },
  {
   "cell_type": "markdown",
   "id": "ec66aef7-f664-4272-b570-f495306f6eff",
   "metadata": {},
   "source": [
    "For security reasons, we must ensure that other users of our computer do not have read access to our Kaggle credentials."
   ]
  },
  {
   "cell_type": "code",
   "execution_count": 5,
   "id": "18d5884d-198d-49cd-be82-4422ba20e963",
   "metadata": {},
   "outputs": [],
   "source": [
    "!chmod 600 ~/.kaggle/kaggle.json"
   ]
  },
  {
   "cell_type": "markdown",
   "id": "8c7733c8-24c4-4432-8bdd-abe187fe1773",
   "metadata": {},
   "source": [
    "### Import Packages"
   ]
  },
  {
   "cell_type": "code",
   "execution_count": 6,
   "id": "b1136c25-666e-4cca-bde9-38907e3a54a6",
   "metadata": {},
   "outputs": [],
   "source": [
    "import sagemaker\n",
    "import boto3\n",
    "import io\n",
    "import json\n",
    "import time\n",
    "\n",
    "from IPython.display import Markdown, display\n",
    "import matplotlib.pyplot as plt\n",
    "import pandas as pd\n",
    "\n",
    "import s3fs"
   ]
  },
  {
   "cell_type": "markdown",
   "id": "79c98c77-f93d-49ba-8d9f-6c96611100f3",
   "metadata": {},
   "source": [
    "\n",
    "Let's start by specifying:\n",
    "\n",
    "1. The S3 bucket and prefix that you want to use for training and model data. This should be within the same region as the notebook instance, training, and hosting.\n",
    "1. The IAM role arn used to give training and hosting access to your data. See the documentation for how to create these. Note, if more than one role is required for notebook instances, training, and/or hosting, please replace sagemaker.get_execution_role() with the appropriate full IAM role arn string(s)."
   ]
  },
  {
   "cell_type": "code",
   "execution_count": 7,
   "id": "0be80b28-ce7f-44e1-9dea-9ced4d4e901d",
   "metadata": {},
   "outputs": [],
   "source": [
    "sagemaker_session = sagemaker.Session() # Use to interact with SageMaker services\n",
    "s3_bucket = sagemaker_session.default_bucket() # Return the name of the default bucket to use for SageMaker interactions.\n",
    "s3_prefix = \"sagemaker/stockx_sneaker_prices\"  # Change to your desired S3 prefix\n",
    "region = sagemaker_session.boto_region_name # Sets default region for SageMaker\n",
    "\n",
    "# Defines data path to store files \n",
    "s3_data_path = \"s3://{}/{}/data\".format(s3_bucket, s3_prefix)\n",
    "s3_output_path = \"s3://{}/{}/output\".format(s3_bucket, s3_prefix)\n",
    "role = sagemaker.get_execution_role() # Return IAM Role used by SageMaker \n"
   ]
  },
  {
   "cell_type": "markdown",
   "id": "d54da16f-ddaa-413d-9848-d8b4efbb2f64",
   "metadata": {},
   "source": [
    "Next, we configure the container image to be used for the region that we are running in."
   ]
  },
  {
   "cell_type": "code",
   "execution_count": 8,
   "id": "38974c5d-3d85-4933-bd9a-642e4c86f515",
   "metadata": {},
   "outputs": [
    {
     "name": "stdout",
     "output_type": "stream",
     "text": [
      "522234722520.dkr.ecr.us-east-1.amazonaws.com/forecasting-deepar:1\n"
     ]
    }
   ],
   "source": [
    "image_name = sagemaker.image_uris.retrieve(\"forecasting-deepar\", region)\n",
    "print(image_name)"
   ]
  },
  {
   "cell_type": "markdown",
   "id": "2fe1b27d-235c-4b82-b2d2-9ea4a1a92351",
   "metadata": {},
   "source": [
    "---\n",
    "## Data \n",
    "The dataset used in this project, is from the [StockX 2019 Data Contest](https://www.kaggle.com/datasets/hudsonstuck/stockx-data-contest).\n",
    "\n",
    "The data consists of a random sample of all Off-White x Nike and Yeezy 350 sales from between 9/1/2017 (the month that Off-White first debuted “The Ten” collection) and the present. There are 99,956 total sales in the data set; 27,794 Off-White sales, and 72,162 Yeezy sales. The sample consists of U.S. sales only."
   ]
  },
  {
   "cell_type": "code",
   "execution_count": 9,
   "id": "c5ce356e-276f-480d-8736-e1958f9da12e",
   "metadata": {},
   "outputs": [
    {
     "name": "stdout",
     "output_type": "stream",
     "text": [
      "ref                                                             title                                            size  lastUpdated          downloadCount  voteCount  usabilityRating  \n",
      "--------------------------------------------------------------  ----------------------------------------------  -----  -------------------  -------------  ---------  ---------------  \n",
      "akshaydattatraykhare/diabetes-dataset                           Diabetes Dataset                                  9KB  2022-10-06 08:55:25          11786        372  1.0              \n",
      "whenamancodes/covid-19-coronavirus-pandemic-dataset             COVID -19 Coronavirus Pandemic Dataset           11KB  2022-09-30 04:05:11           9403        289  1.0              \n",
      "stetsondone/video-game-sales-by-genre                           Video Game Sales by Genre                        12KB  2022-10-31 17:56:01            965         23  1.0              \n",
      "whenamancodes/credit-card-customers-prediction                  Credit Card Customers Prediction                379KB  2022-10-30 13:03:27           1611         39  1.0              \n",
      "whenamancodes/students-performance-in-exams                     Students Performance in Exams                     9KB  2022-09-14 15:14:54          16139        301  1.0              \n",
      "akshaydattatraykhare/data-for-admission-in-the-university       Data for Admission in the University              4KB  2022-10-27 11:05:45           2214         51  1.0              \n",
      "michaelbryantds/electric-vehicle-charging-dataset               Electric Vehicle Charging Dataset                98KB  2022-11-02 01:45:23            758         37  0.9411765        \n",
      "maharshipandya/-spotify-tracks-dataset                          🎹 Spotify Tracks Dataset                          8MB  2022-10-22 14:40:15           2401         76  1.0              \n",
      "hasibalmuzdadid/global-air-pollution-dataset                    Global Air Pollution Dataset                    371KB  2022-11-08 14:43:32           1297         48  1.0              \n",
      "whenamancodes/amazon-reviews-on-women-dresses                   Amazon Reviews on Women Dresses                   3MB  2022-10-29 12:47:06            602         32  1.0              \n",
      "akshaydattatraykhare/car-details-dataset                        Car Details Dataset                              56KB  2022-10-21 06:11:56           2875         48  1.0              \n",
      "whenamancodes/international-football-from-1872-to-2022          International Football from 1872 to 2022        572KB  2022-10-30 13:27:29            688         30  0.9411765        \n",
      "whenamancodes/customer-personality-analysis                     Company's Ideal Customers | Marketing Strategy   62KB  2022-10-30 14:17:42           1041         34  1.0              \n",
      "dimitryzub/walmart-coffee-listings-from-500-stores              Walmart Coffee Listings from 500 stores          85KB  2022-10-25 09:20:12           1339         43  1.0              \n",
      "dheerajmukati/most-runs-in-cricket                              Most Runs in International cricket                4KB  2022-10-16 16:49:20            723         32  1.0              \n",
      "thedevastator/food-prices-year-by-year                          Global Food Prices Year By Year                   7KB  2022-10-30 08:49:55            985         31  1.0              \n",
      "saikumartamminana/gold-price-prediction                         Gold Price Prediction                            41KB  2022-10-30 19:07:30           1077         26  0.8235294        \n",
      "thedevastator/udemy-courses-revenue-generation-and-course-anal  Udemy Courses                                   429KB  2022-10-17 00:11:53           2046         58  1.0              \n",
      "whenamancodes/adidas-us-retail-products-dataset                 Adidas US Retail Products Dataset               286KB  2022-10-26 15:44:20            845         34  1.0              \n",
      "jainilcoder/online-payment-fraud-detection                      Online Payment Fraud Detection                  178MB  2022-10-26 12:35:46           1203         40  0.9705882        \n",
      "Downloading stockx-data-contest.zip to /root/stockx_sneaker_prices\n",
      "  0%|                                                | 0.00/711k [00:00<?, ?B/s]\n",
      "100%|████████████████████████████████████████| 711k/711k [00:00<00:00, 11.8MB/s]\n"
     ]
    }
   ],
   "source": [
    "!kaggle datasets list # List available datasets\n",
    "!kaggle datasets download -d hudsonstuck/stockx-data-contest --unzip --force # Downloads & Unzip dataset"
   ]
  },
  {
   "cell_type": "markdown",
   "id": "639b34af-8464-4293-980d-180b3735b8cc",
   "metadata": {},
   "source": [
    "Now that the dataset is downloaded, let us visualize what the data looks like. "
   ]
  },
  {
   "cell_type": "code",
   "execution_count": 217,
   "id": "65ebf8b2-62ff-486d-8738-13878611511a",
   "metadata": {},
   "outputs": [
    {
     "data": {
      "text/html": [
       "<div>\n",
       "<style scoped>\n",
       "    .dataframe tbody tr th:only-of-type {\n",
       "        vertical-align: middle;\n",
       "    }\n",
       "\n",
       "    .dataframe tbody tr th {\n",
       "        vertical-align: top;\n",
       "    }\n",
       "\n",
       "    .dataframe thead th {\n",
       "        text-align: right;\n",
       "    }\n",
       "</style>\n",
       "<table border=\"1\" class=\"dataframe\">\n",
       "  <thead>\n",
       "    <tr style=\"text-align: right;\">\n",
       "      <th></th>\n",
       "      <th>Order Date</th>\n",
       "      <th>Brand</th>\n",
       "      <th>Sneaker Name</th>\n",
       "      <th>Sale Price</th>\n",
       "      <th>Retail Price</th>\n",
       "      <th>Release Date</th>\n",
       "      <th>Shoe Size</th>\n",
       "      <th>Buyer Region</th>\n",
       "    </tr>\n",
       "  </thead>\n",
       "  <tbody>\n",
       "    <tr>\n",
       "      <th>0</th>\n",
       "      <td>2017-09-01</td>\n",
       "      <td>Yeezy</td>\n",
       "      <td>Adidas-Yeezy-Boost-350-Low-V2-Beluga</td>\n",
       "      <td>$1,097</td>\n",
       "      <td>$220</td>\n",
       "      <td>2016-09-24</td>\n",
       "      <td>11.0</td>\n",
       "      <td>California</td>\n",
       "    </tr>\n",
       "    <tr>\n",
       "      <th>1</th>\n",
       "      <td>2017-09-01</td>\n",
       "      <td>Yeezy</td>\n",
       "      <td>Adidas-Yeezy-Boost-350-V2-Core-Black-Copper</td>\n",
       "      <td>$685</td>\n",
       "      <td>$220</td>\n",
       "      <td>2016-11-23</td>\n",
       "      <td>11.0</td>\n",
       "      <td>California</td>\n",
       "    </tr>\n",
       "    <tr>\n",
       "      <th>2</th>\n",
       "      <td>2017-09-01</td>\n",
       "      <td>Yeezy</td>\n",
       "      <td>Adidas-Yeezy-Boost-350-V2-Core-Black-Green</td>\n",
       "      <td>$690</td>\n",
       "      <td>$220</td>\n",
       "      <td>2016-11-23</td>\n",
       "      <td>11.0</td>\n",
       "      <td>California</td>\n",
       "    </tr>\n",
       "    <tr>\n",
       "      <th>3</th>\n",
       "      <td>2017-09-01</td>\n",
       "      <td>Yeezy</td>\n",
       "      <td>Adidas-Yeezy-Boost-350-V2-Core-Black-Red</td>\n",
       "      <td>$1,075</td>\n",
       "      <td>$220</td>\n",
       "      <td>2016-11-23</td>\n",
       "      <td>11.5</td>\n",
       "      <td>Kentucky</td>\n",
       "    </tr>\n",
       "    <tr>\n",
       "      <th>4</th>\n",
       "      <td>2017-09-01</td>\n",
       "      <td>Yeezy</td>\n",
       "      <td>Adidas-Yeezy-Boost-350-V2-Core-Black-Red-2017</td>\n",
       "      <td>$828</td>\n",
       "      <td>$220</td>\n",
       "      <td>2017-02-11</td>\n",
       "      <td>11.0</td>\n",
       "      <td>Rhode Island</td>\n",
       "    </tr>\n",
       "  </tbody>\n",
       "</table>\n",
       "</div>"
      ],
      "text/plain": [
       "  Order Date   Brand                                   Sneaker Name  \\\n",
       "0 2017-09-01   Yeezy           Adidas-Yeezy-Boost-350-Low-V2-Beluga   \n",
       "1 2017-09-01   Yeezy    Adidas-Yeezy-Boost-350-V2-Core-Black-Copper   \n",
       "2 2017-09-01   Yeezy     Adidas-Yeezy-Boost-350-V2-Core-Black-Green   \n",
       "3 2017-09-01   Yeezy       Adidas-Yeezy-Boost-350-V2-Core-Black-Red   \n",
       "4 2017-09-01   Yeezy  Adidas-Yeezy-Boost-350-V2-Core-Black-Red-2017   \n",
       "\n",
       "  Sale Price Retail Price Release Date  Shoe Size  Buyer Region  \n",
       "0     $1,097         $220   2016-09-24       11.0    California  \n",
       "1       $685         $220   2016-11-23       11.0    California  \n",
       "2       $690         $220   2016-11-23       11.0    California  \n",
       "3     $1,075         $220   2016-11-23       11.5      Kentucky  \n",
       "4       $828         $220   2017-02-11       11.0  Rhode Island  "
      ]
     },
     "execution_count": 217,
     "metadata": {},
     "output_type": "execute_result"
    }
   ],
   "source": [
    "initial_data = pd.read_csv('StockX-Data-Contest-2019-3.csv', header = 0, parse_dates=['Order Date', 'Release Date'])\n",
    "df = initial_data.copy()\n",
    "df.head() # Display first 5 rows\n",
    "#df.info() # Shows data type in frame"
   ]
  },
  {
   "cell_type": "markdown",
   "id": "d019c89c-a4e8-4999-8626-756fa062de46",
   "metadata": {},
   "source": [
    "### Data Cleaning \n",
    "The data is already somewhat nicely formatted for us, but there are still a few cleaning we have to do. \n",
    "\n",
    "1. Remove dashes ('-') from Sneaker Name \n",
    "1. Remove dollar sign ('$') and comma (',') from prices (Sales Price, Retail Price)\n",
    "1. Convert Sale Price and Retail Price to type float 64"
   ]
  },
  {
   "cell_type": "code",
   "execution_count": 219,
   "id": "16f5cb76-bc17-4ea4-a919-5b254fecd009",
   "metadata": {},
   "outputs": [
    {
     "data": {
      "text/html": [
       "<div>\n",
       "<style scoped>\n",
       "    .dataframe tbody tr th:only-of-type {\n",
       "        vertical-align: middle;\n",
       "    }\n",
       "\n",
       "    .dataframe tbody tr th {\n",
       "        vertical-align: top;\n",
       "    }\n",
       "\n",
       "    .dataframe thead th {\n",
       "        text-align: right;\n",
       "    }\n",
       "</style>\n",
       "<table border=\"1\" class=\"dataframe\">\n",
       "  <thead>\n",
       "    <tr style=\"text-align: right;\">\n",
       "      <th></th>\n",
       "      <th>Order Date</th>\n",
       "      <th>Brand</th>\n",
       "      <th>Sneaker Name</th>\n",
       "      <th>Sale Price</th>\n",
       "      <th>Retail Price</th>\n",
       "      <th>Release Date</th>\n",
       "      <th>Shoe Size</th>\n",
       "      <th>Buyer Region</th>\n",
       "    </tr>\n",
       "  </thead>\n",
       "  <tbody>\n",
       "    <tr>\n",
       "      <th>0</th>\n",
       "      <td>2017-09-01</td>\n",
       "      <td>Yeezy</td>\n",
       "      <td>Adidas Yeezy Boost 350 Low V2 Beluga</td>\n",
       "      <td>$1,097</td>\n",
       "      <td>$220</td>\n",
       "      <td>2016-09-24</td>\n",
       "      <td>11.0</td>\n",
       "      <td>California</td>\n",
       "    </tr>\n",
       "    <tr>\n",
       "      <th>1</th>\n",
       "      <td>2017-09-01</td>\n",
       "      <td>Yeezy</td>\n",
       "      <td>Adidas Yeezy Boost 350 V2 Core Black Copper</td>\n",
       "      <td>$685</td>\n",
       "      <td>$220</td>\n",
       "      <td>2016-11-23</td>\n",
       "      <td>11.0</td>\n",
       "      <td>California</td>\n",
       "    </tr>\n",
       "    <tr>\n",
       "      <th>2</th>\n",
       "      <td>2017-09-01</td>\n",
       "      <td>Yeezy</td>\n",
       "      <td>Adidas Yeezy Boost 350 V2 Core Black Green</td>\n",
       "      <td>$690</td>\n",
       "      <td>$220</td>\n",
       "      <td>2016-11-23</td>\n",
       "      <td>11.0</td>\n",
       "      <td>California</td>\n",
       "    </tr>\n",
       "    <tr>\n",
       "      <th>3</th>\n",
       "      <td>2017-09-01</td>\n",
       "      <td>Yeezy</td>\n",
       "      <td>Adidas Yeezy Boost 350 V2 Core Black Red</td>\n",
       "      <td>$1,075</td>\n",
       "      <td>$220</td>\n",
       "      <td>2016-11-23</td>\n",
       "      <td>11.5</td>\n",
       "      <td>Kentucky</td>\n",
       "    </tr>\n",
       "    <tr>\n",
       "      <th>4</th>\n",
       "      <td>2017-09-01</td>\n",
       "      <td>Yeezy</td>\n",
       "      <td>Adidas Yeezy Boost 350 V2 Core Black Red 2017</td>\n",
       "      <td>$828</td>\n",
       "      <td>$220</td>\n",
       "      <td>2017-02-11</td>\n",
       "      <td>11.0</td>\n",
       "      <td>Rhode Island</td>\n",
       "    </tr>\n",
       "  </tbody>\n",
       "</table>\n",
       "</div>"
      ],
      "text/plain": [
       "  Order Date   Brand                                   Sneaker Name  \\\n",
       "0 2017-09-01   Yeezy           Adidas Yeezy Boost 350 Low V2 Beluga   \n",
       "1 2017-09-01   Yeezy    Adidas Yeezy Boost 350 V2 Core Black Copper   \n",
       "2 2017-09-01   Yeezy     Adidas Yeezy Boost 350 V2 Core Black Green   \n",
       "3 2017-09-01   Yeezy       Adidas Yeezy Boost 350 V2 Core Black Red   \n",
       "4 2017-09-01   Yeezy  Adidas Yeezy Boost 350 V2 Core Black Red 2017   \n",
       "\n",
       "  Sale Price Retail Price Release Date  Shoe Size  Buyer Region  \n",
       "0     $1,097         $220   2016-09-24       11.0    California  \n",
       "1       $685         $220   2016-11-23       11.0    California  \n",
       "2       $690         $220   2016-11-23       11.0    California  \n",
       "3     $1,075         $220   2016-11-23       11.5      Kentucky  \n",
       "4       $828         $220   2017-02-11       11.0  Rhode Island  "
      ]
     },
     "execution_count": 219,
     "metadata": {},
     "output_type": "execute_result"
    }
   ],
   "source": [
    "# Remove dashes ('-') from Sneaker Name \n",
    "df['Sneaker Name'] = df['Sneaker Name'].apply(lambda x: x.replace('-', ' '))\n",
    "df.head()"
   ]
  },
  {
   "cell_type": "code",
   "execution_count": 220,
   "id": "86be19b1-353b-4de5-b9b4-9d4db61d53b8",
   "metadata": {},
   "outputs": [
    {
     "data": {
      "text/html": [
       "<div>\n",
       "<style scoped>\n",
       "    .dataframe tbody tr th:only-of-type {\n",
       "        vertical-align: middle;\n",
       "    }\n",
       "\n",
       "    .dataframe tbody tr th {\n",
       "        vertical-align: top;\n",
       "    }\n",
       "\n",
       "    .dataframe thead th {\n",
       "        text-align: right;\n",
       "    }\n",
       "</style>\n",
       "<table border=\"1\" class=\"dataframe\">\n",
       "  <thead>\n",
       "    <tr style=\"text-align: right;\">\n",
       "      <th></th>\n",
       "      <th>Order Date</th>\n",
       "      <th>Brand</th>\n",
       "      <th>Sneaker Name</th>\n",
       "      <th>Sale Price</th>\n",
       "      <th>Retail Price</th>\n",
       "      <th>Release Date</th>\n",
       "      <th>Shoe Size</th>\n",
       "      <th>Buyer Region</th>\n",
       "    </tr>\n",
       "  </thead>\n",
       "  <tbody>\n",
       "    <tr>\n",
       "      <th>0</th>\n",
       "      <td>2017-09-01</td>\n",
       "      <td>Yeezy</td>\n",
       "      <td>Adidas Yeezy Boost 350 Low V2 Beluga</td>\n",
       "      <td>1097.0</td>\n",
       "      <td>220.0</td>\n",
       "      <td>2016-09-24</td>\n",
       "      <td>11.0</td>\n",
       "      <td>California</td>\n",
       "    </tr>\n",
       "    <tr>\n",
       "      <th>1</th>\n",
       "      <td>2017-09-01</td>\n",
       "      <td>Yeezy</td>\n",
       "      <td>Adidas Yeezy Boost 350 V2 Core Black Copper</td>\n",
       "      <td>685.0</td>\n",
       "      <td>220.0</td>\n",
       "      <td>2016-11-23</td>\n",
       "      <td>11.0</td>\n",
       "      <td>California</td>\n",
       "    </tr>\n",
       "    <tr>\n",
       "      <th>2</th>\n",
       "      <td>2017-09-01</td>\n",
       "      <td>Yeezy</td>\n",
       "      <td>Adidas Yeezy Boost 350 V2 Core Black Green</td>\n",
       "      <td>690.0</td>\n",
       "      <td>220.0</td>\n",
       "      <td>2016-11-23</td>\n",
       "      <td>11.0</td>\n",
       "      <td>California</td>\n",
       "    </tr>\n",
       "    <tr>\n",
       "      <th>3</th>\n",
       "      <td>2017-09-01</td>\n",
       "      <td>Yeezy</td>\n",
       "      <td>Adidas Yeezy Boost 350 V2 Core Black Red</td>\n",
       "      <td>1075.0</td>\n",
       "      <td>220.0</td>\n",
       "      <td>2016-11-23</td>\n",
       "      <td>11.5</td>\n",
       "      <td>Kentucky</td>\n",
       "    </tr>\n",
       "    <tr>\n",
       "      <th>4</th>\n",
       "      <td>2017-09-01</td>\n",
       "      <td>Yeezy</td>\n",
       "      <td>Adidas Yeezy Boost 350 V2 Core Black Red 2017</td>\n",
       "      <td>828.0</td>\n",
       "      <td>220.0</td>\n",
       "      <td>2017-02-11</td>\n",
       "      <td>11.0</td>\n",
       "      <td>Rhode Island</td>\n",
       "    </tr>\n",
       "  </tbody>\n",
       "</table>\n",
       "</div>"
      ],
      "text/plain": [
       "  Order Date   Brand                                   Sneaker Name  \\\n",
       "0 2017-09-01   Yeezy           Adidas Yeezy Boost 350 Low V2 Beluga   \n",
       "1 2017-09-01   Yeezy    Adidas Yeezy Boost 350 V2 Core Black Copper   \n",
       "2 2017-09-01   Yeezy     Adidas Yeezy Boost 350 V2 Core Black Green   \n",
       "3 2017-09-01   Yeezy       Adidas Yeezy Boost 350 V2 Core Black Red   \n",
       "4 2017-09-01   Yeezy  Adidas Yeezy Boost 350 V2 Core Black Red 2017   \n",
       "\n",
       "   Sale Price  Retail Price Release Date  Shoe Size  Buyer Region  \n",
       "0      1097.0         220.0   2016-09-24       11.0    California  \n",
       "1       685.0         220.0   2016-11-23       11.0    California  \n",
       "2       690.0         220.0   2016-11-23       11.0    California  \n",
       "3      1075.0         220.0   2016-11-23       11.5      Kentucky  \n",
       "4       828.0         220.0   2017-02-11       11.0  Rhode Island  "
      ]
     },
     "execution_count": 220,
     "metadata": {},
     "output_type": "execute_result"
    }
   ],
   "source": [
    "# Remove dollar sign ('$') and comma (',') from prices (Sales Price, Retail Price) \n",
    "# Converts values to type float64\n",
    "df['Sale Price'] = df['Sale Price'].apply(lambda x: x.replace('$', ''))\n",
    "df['Sale Price'] = df['Sale Price'].apply(lambda x: x.replace(',', ''))\n",
    "df['Sale Price'] = df['Sale Price'].astype(float)\n",
    "df['Retail Price'] = df['Retail Price'].apply(lambda x: x.replace('$', ''))\n",
    "df['Retail Price'] = df['Retail Price'].apply(lambda x: x.replace(',', ''))\n",
    "df['Retail Price'] = df['Retail Price'].astype(float)\n",
    "df.head()"
   ]
  },
  {
   "cell_type": "code",
   "execution_count": 221,
   "id": "1f2a687c-b723-4a6e-ba80-2b58240ed8af",
   "metadata": {},
   "outputs": [
    {
     "data": {
      "text/html": [
       "<div>\n",
       "<style scoped>\n",
       "    .dataframe tbody tr th:only-of-type {\n",
       "        vertical-align: middle;\n",
       "    }\n",
       "\n",
       "    .dataframe tbody tr th {\n",
       "        vertical-align: top;\n",
       "    }\n",
       "\n",
       "    .dataframe thead th {\n",
       "        text-align: right;\n",
       "    }\n",
       "</style>\n",
       "<table border=\"1\" class=\"dataframe\">\n",
       "  <thead>\n",
       "    <tr style=\"text-align: right;\">\n",
       "      <th></th>\n",
       "      <th>order_date</th>\n",
       "      <th>brand</th>\n",
       "      <th>sneaker_name</th>\n",
       "      <th>sale_price</th>\n",
       "      <th>retail_price</th>\n",
       "      <th>release_date</th>\n",
       "      <th>shoe_size</th>\n",
       "      <th>buyer_region</th>\n",
       "    </tr>\n",
       "  </thead>\n",
       "  <tbody>\n",
       "    <tr>\n",
       "      <th>0</th>\n",
       "      <td>2017-09-01</td>\n",
       "      <td>Yeezy</td>\n",
       "      <td>Adidas Yeezy Boost 350 Low V2 Beluga</td>\n",
       "      <td>1097.0</td>\n",
       "      <td>220.0</td>\n",
       "      <td>2016-09-24</td>\n",
       "      <td>11.0</td>\n",
       "      <td>California</td>\n",
       "    </tr>\n",
       "    <tr>\n",
       "      <th>1</th>\n",
       "      <td>2017-09-01</td>\n",
       "      <td>Yeezy</td>\n",
       "      <td>Adidas Yeezy Boost 350 V2 Core Black Copper</td>\n",
       "      <td>685.0</td>\n",
       "      <td>220.0</td>\n",
       "      <td>2016-11-23</td>\n",
       "      <td>11.0</td>\n",
       "      <td>California</td>\n",
       "    </tr>\n",
       "    <tr>\n",
       "      <th>2</th>\n",
       "      <td>2017-09-01</td>\n",
       "      <td>Yeezy</td>\n",
       "      <td>Adidas Yeezy Boost 350 V2 Core Black Green</td>\n",
       "      <td>690.0</td>\n",
       "      <td>220.0</td>\n",
       "      <td>2016-11-23</td>\n",
       "      <td>11.0</td>\n",
       "      <td>California</td>\n",
       "    </tr>\n",
       "    <tr>\n",
       "      <th>3</th>\n",
       "      <td>2017-09-01</td>\n",
       "      <td>Yeezy</td>\n",
       "      <td>Adidas Yeezy Boost 350 V2 Core Black Red</td>\n",
       "      <td>1075.0</td>\n",
       "      <td>220.0</td>\n",
       "      <td>2016-11-23</td>\n",
       "      <td>11.5</td>\n",
       "      <td>Kentucky</td>\n",
       "    </tr>\n",
       "    <tr>\n",
       "      <th>4</th>\n",
       "      <td>2017-09-01</td>\n",
       "      <td>Yeezy</td>\n",
       "      <td>Adidas Yeezy Boost 350 V2 Core Black Red 2017</td>\n",
       "      <td>828.0</td>\n",
       "      <td>220.0</td>\n",
       "      <td>2017-02-11</td>\n",
       "      <td>11.0</td>\n",
       "      <td>Rhode Island</td>\n",
       "    </tr>\n",
       "  </tbody>\n",
       "</table>\n",
       "</div>"
      ],
      "text/plain": [
       "  order_date   brand                                   sneaker_name  \\\n",
       "0 2017-09-01   Yeezy           Adidas Yeezy Boost 350 Low V2 Beluga   \n",
       "1 2017-09-01   Yeezy    Adidas Yeezy Boost 350 V2 Core Black Copper   \n",
       "2 2017-09-01   Yeezy     Adidas Yeezy Boost 350 V2 Core Black Green   \n",
       "3 2017-09-01   Yeezy       Adidas Yeezy Boost 350 V2 Core Black Red   \n",
       "4 2017-09-01   Yeezy  Adidas Yeezy Boost 350 V2 Core Black Red 2017   \n",
       "\n",
       "   sale_price  retail_price release_date  shoe_size  buyer_region  \n",
       "0      1097.0         220.0   2016-09-24       11.0    California  \n",
       "1       685.0         220.0   2016-11-23       11.0    California  \n",
       "2       690.0         220.0   2016-11-23       11.0    California  \n",
       "3      1075.0         220.0   2016-11-23       11.5      Kentucky  \n",
       "4       828.0         220.0   2017-02-11       11.0  Rhode Island  "
      ]
     },
     "execution_count": 221,
     "metadata": {},
     "output_type": "execute_result"
    }
   ],
   "source": [
    "# Renaming columns to remove spaces \n",
    "df = df.rename(columns={\n",
    "    \"Order Date\": \"order_date\",\n",
    "    \"Brand\": \"brand\",\n",
    "    \"Sneaker Name\": \"sneaker_name\",\n",
    "    \"Sale Price\": \"sale_price\",\n",
    "    \"Retail Price\": \"retail_price\",\n",
    "    \"Release Date\": \"release_date\",\n",
    "    \"Shoe Size\": \"shoe_size\",\n",
    "    \"Buyer Region\": \"buyer_region\"\n",
    "    })\n",
    "df.head()"
   ]
  },
  {
   "cell_type": "markdown",
   "id": "6c390a2e-8119-4a2b-8aa4-b1daf917a10f",
   "metadata": {},
   "source": [
    "### Store Data to S3"
   ]
  },
  {
   "cell_type": "code",
   "execution_count": 233,
   "id": "f7408201-26d2-475a-91aa-9ba2bf8e97b8",
   "metadata": {},
   "outputs": [
    {
     "data": {
      "image/png": "[encoded data removed]",
      "text/plain": [
       "<Figure size 1200x600 with 1 Axes>"
      ]
     },
     "metadata": {},
     "output_type": "display_data"
    }
   ],
   "source": [
    "df_copy = df.resample('D', on='order_date')['sale_price'].mean()\n",
    "\n",
    "plt.figure(figsize=(12,6))\n",
    "df_copy.plot(title='Daily Sales', color='blue')\n",
    "plt.show()"
   ]
  },
  {
   "cell_type": "code",
   "execution_count": 230,
   "id": "c3b9b814-d42b-4453-b3dc-5f4815ba3b30",
   "metadata": {},
   "outputs": [
    {
     "data": {
      "text/plain": [
       "adidas Yeezy Boost 350 V2 Butter                     11423\n",
       "Adidas Yeezy Boost 350 V2 Beluga 2pt0                10395\n",
       "Adidas Yeezy Boost 350 V2 Zebra                      10110\n",
       "Adidas Yeezy Boost 350 V2 Blue Tint                   9297\n",
       "Adidas Yeezy Boost 350 V2 Cream White                 9097\n",
       "Adidas Yeezy Boost 350 V2 Sesame                      5553\n",
       "adidas Yeezy Boost 350 V2 Static                      4983\n",
       "Adidas Yeezy Boost 350 V2 Semi Frozen Yellow          4854\n",
       "Air Jordan 1 Retro High Off White University Blue     4635\n",
       "adidas Yeezy Boost 350 V2 Static Reflective           3184\n",
       "Nike Air Presto Off White Black 2018                  1884\n",
       "Nike Air Presto Off White White 2018                  1883\n",
       "Nike Air VaporMax Off White 2018                      1591\n",
       "Nike Blazer Mid Off White All Hallows Eve             1435\n",
       "Nike Blazer Mid Off White Grim Reaper                 1398\n",
       "Nike Zoom Fly Off White Pink                          1359\n",
       "Nike Air VaporMax Off White Black                     1313\n",
       "Nike Zoom Fly Off White Black Silver                  1222\n",
       "Nike Air Force 1 Low Off White Volt                   1019\n",
       "Adidas Yeezy Boost 350 V2 Core Black Red 2017          969\n",
       "Nike Air Force 1 Low Off White Black White             960\n",
       "Air Jordan 1 Retro High Off White Chicago              755\n",
       "Nike Air Max 90 Off White Black                        722\n",
       "Nike Zoom Fly Mercurial Off White Total Orange         656\n",
       "Nike Air Max 90 Off White Desert Ore                   649\n",
       "Nike Zoom Fly Mercurial Off White Black                645\n",
       "Nike Air Max 90 Off White                              627\n",
       "Adidas Yeezy Boost 350 V2 Core Black White             621\n",
       "Nike Air Presto Off White                              596\n",
       "Nike Air Max 97 Off White                              544\n",
       "Nike Air VaporMax Off White                            525\n",
       "Nike Blazer Mid Off White                              501\n",
       "Adidas Yeezy Boost 350 Low V2 Beluga                   498\n",
       "Nike React Hyperdunk 2017 Flyknit Off White            484\n",
       "Nike Air Force 1 Low Off White                         476\n",
       "Nike Zoom Fly Off White                                435\n",
       "Nike Air Max 97 Off White Menta                        343\n",
       "Air Jordan 1 Retro High Off White White                313\n",
       "Adidas Yeezy Boost 350 V2 Core Black Red               302\n",
       "Nike Air Max 97 Off White Black                        289\n",
       "Nike Blazer Mid Off White Wolf Grey                    288\n",
       "Adidas Yeezy Boost 350 V2 Core Black Copper            225\n",
       "Nike Air Max 97 Off White Elemental Rose Queen         216\n",
       "Adidas Yeezy Boost 350 V2 Core Black Green             196\n",
       "Adidas Yeezy Boost 350 Low Pirate Black 2016           122\n",
       "Adidas Yeezy Boost 350 Low Moonrock                    100\n",
       "Adidas Yeezy Boost 350 Low Pirate Black 2015            95\n",
       "Adidas Yeezy Boost 350 Low Oxford Tan                   70\n",
       "Adidas Yeezy Boost 350 Low Turtledove                   68\n",
       "Nike Air Force 1 Low Virgil Abloh Off White AF100       31\n",
       "Name: sneaker_name, dtype: int64"
      ]
     },
     "execution_count": 230,
     "metadata": {},
     "output_type": "execute_result"
    }
   ],
   "source": [
    "df['sneaker_name'].value_counts()"
   ]
  }
 ],
 "metadata": {
  "instance_type": "ml.t3.medium",
  "kernelspec": {
   "display_name": "Python 3 (Data Science)",
   "language": "python",
   "name": "python3__SAGEMAKER_INTERNAL__arn:aws:sagemaker:us-east-1:081325390199:image/datascience-1.0"
  },
  "language_info": {
   "codemirror_mode": {
    "name": "ipython",
    "version": 3
   },
   "file_extension": ".py",
   "mimetype": "text/x-python",
   "name": "python",
   "nbconvert_exporter": "python",
   "pygments_lexer": "ipython3",
   "version": "3.7.10"
  }
 },
 "nbformat": 4,
 "nbformat_minor": 5
}
