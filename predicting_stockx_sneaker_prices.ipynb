{
 "cells": [
  {
   "cell_type": "markdown",
   "id": "3b0c014a-dbe4-4e11-981c-55e5a67eb7d2",
   "metadata": {},
   "source": [
    "# **📈 Predicting StockX Sneaker Prices using SageMaker DeepAR**\n",
    "---"
   ]
  },
  {
   "cell_type": "markdown",
   "id": "67f6be66-0d2a-4e0a-b7fb-aa6062c27d62",
   "metadata": {},
   "source": [
    "## **Contents**\n",
    "\n",
    "1. [Background](#Background)\n",
    "1. [Setup](#Setup)\n",
    "1. [Data](#Data)\n",
    "1. [Train](#Train)\n",
    "\n",
    "---"
   ]
  },
  {
   "cell_type": "markdown",
   "id": "33be12e9-2505-4e32-a27e-ec71cfeb5069",
   "metadata": {
    "jp-MarkdownHeadingCollapsed": true,
    "tags": []
   },
   "source": [
    "## **Background**\n",
    "This notebook demonstrates time series forecasting using the Amazon SageMaker DeepAR alogrithm by analyzing Stockx sneaker prices.  \n",
    "\n",
    "\n",
    "<span style=\"color:red; font-weight: bold\">Disclaimer</span> : Please note that I am a newbie to AI/ML. I built this project so I can further my own learning in Machine Learning. I am sharing it because I hope it can assist someone who is also on a similar journey as I am. \n",
    "\n",
    "---"
   ]
  },
  {
   "cell_type": "markdown",
   "id": "8c1b183a-ed7a-4412-a265-171c11e9fae1",
   "metadata": {},
   "source": [
    "## **Setup** \n",
    "This notebook was created and tested on a ml.m4.xlarge instance. \n",
    "\n"
   ]
  },
  {
   "cell_type": "markdown",
   "id": "5faca333-25af-458a-810a-f410896b5385",
   "metadata": {},
   "source": [
    "### Enable Kaggle Tools \n",
    "\n",
    "What is Kaggle? Kaggle allows users to find and publish data sets, explore and build models in a web-based data-science environment, work with other data scientists and machine learning engineers, and enter competitions to solve data science challenges. You can find out more about Kaggle on their [website](https://www.kaggle.com/). \n",
    "\n",
    "We will be using Kaggle to download the Stockx sneaker sales dataset."
   ]
  },
  {
   "cell_type": "code",
   "execution_count": 44,
   "id": "e0a80034-c9c2-483e-82fc-ca622aa30db8",
   "metadata": {},
   "outputs": [
    {
     "name": "stdout",
     "output_type": "stream",
     "text": [
      "\u001b[33mWARNING: Running pip as the 'root' user can result in broken permissions and conflicting behaviour with the system package manager. It is recommended to use a virtual environment instead: https://pip.pypa.io/warnings/venv\u001b[0m\u001b[33m\n",
      "\u001b[0m\n",
      "\u001b[1m[\u001b[0m\u001b[34;49mnotice\u001b[0m\u001b[1;39;49m]\u001b[0m\u001b[39;49m A new release of pip available: \u001b[0m\u001b[31;49m22.2.2\u001b[0m\u001b[39;49m -> \u001b[0m\u001b[32;49m22.3.1\u001b[0m\n",
      "\u001b[1m[\u001b[0m\u001b[34;49mnotice\u001b[0m\u001b[1;39;49m]\u001b[0m\u001b[39;49m To update, run: \u001b[0m\u001b[32;49mpip install --upgrade pip\u001b[0m\n"
     ]
    }
   ],
   "source": [
    "!pip install --q kaggle "
   ]
  },
  {
   "cell_type": "markdown",
   "id": "b835cfc5-45d6-4d94-a475-e4fe2b715b65",
   "metadata": {},
   "source": [
    "To use Kaggle API, you must have an account and an API token. You can register for a Kaggle account [here](https://www.kaggle.com/docs/api) and generate your API token, it is completely free. "
   ]
  },
  {
   "cell_type": "code",
   "execution_count": 45,
   "id": "42df2b65-0bde-4801-b6bb-26769088d059",
   "metadata": {},
   "outputs": [],
   "source": [
    "!touch ~/.kaggle/kaggle.json # Creates json file to store Kaggle API Credentials\n",
    "kaggle_api_token = {\"username\":\"gilbertyoungjr\",\"key\":\"9c1e0b76bd43718e8bf816ac26e05824\"}  # Insert your own username and API Key here"
   ]
  },
  {
   "cell_type": "code",
   "execution_count": 46,
   "id": "708bab52-5993-417f-af9d-471f2a5cff52",
   "metadata": {},
   "outputs": [],
   "source": [
    "import json \n",
    "\n",
    "# Writes API Credentials to Kaggle file\n",
    "with open('/root/.kaggle/kaggle.json', 'w') as file: \n",
    "    json.dump(kaggle_api_token,file)\n",
    "    "
   ]
  },
  {
   "cell_type": "markdown",
   "id": "ec66aef7-f664-4272-b570-f495306f6eff",
   "metadata": {},
   "source": [
    "For security reasons, we must ensure that other users of our computer do not have read access to our Kaggle credentials."
   ]
  },
  {
   "cell_type": "code",
   "execution_count": 47,
   "id": "18d5884d-198d-49cd-be82-4422ba20e963",
   "metadata": {},
   "outputs": [],
   "source": [
    "!chmod 600 ~/.kaggle/kaggle.json"
   ]
  },
  {
   "cell_type": "markdown",
   "id": "8c7733c8-24c4-4432-8bdd-abe187fe1773",
   "metadata": {},
   "source": [
    "### Import Packages"
   ]
  },
  {
   "cell_type": "code",
   "execution_count": 76,
   "id": "b1136c25-666e-4cca-bde9-38907e3a54a6",
   "metadata": {},
   "outputs": [],
   "source": [
    "import sagemaker\n",
    "import boto3\n",
    "import io\n",
    "import json\n",
    "import time\n",
    "from datetime import timedelta\n",
    "from IPython.display import Markdown, display\n",
    "import matplotlib.pyplot as plt\n",
    "import pandas as pd\n",
    "\n",
    "import s3fs"
   ]
  },
  {
   "cell_type": "markdown",
   "id": "79c98c77-f93d-49ba-8d9f-6c96611100f3",
   "metadata": {},
   "source": [
    "\n",
    "Let's start by specifying:\n",
    "\n",
    "1. The S3 Bucket that will be used for training and model data\n",
    "1. IAM arn used to give training and hosting access to the data See the documentation for how to create these. Note, if more than one role is required for notebook instances, training, and/or hosting, please replace sagemaker.get_execution_role() with the appropriate full IAM role arn string(s)."
   ]
  },
  {
   "cell_type": "code",
   "execution_count": 97,
   "id": "0be80b28-ce7f-44e1-9dea-9ced4d4e901d",
   "metadata": {},
   "outputs": [],
   "source": [
    "sagemaker_session = sagemaker.Session() # Use to interact with SageMaker services\n",
    "s3_bucket = sagemaker_session.default_bucket() # Return the name of the default bucket to use for SageMaker interactions.\n",
    "s3_prefix = \"stockx_sneaker_prices\"  # Change to your desired S3 prefix\n",
    "region = sagemaker_session.boto_region_name # Sets default region for SageMaker\n",
    "\n",
    "# Defines data path to store files \n",
    "s3_data_path = \"s3://{}/{}/data\".format(s3_bucket, s3_prefix)\n",
    "s3_output_path = \"s3://{}/{}/output\".format(s3_bucket, s3_prefix)\n",
    "role = sagemaker.get_execution_role() # Return IAM Role used by SageMaker \n"
   ]
  },
  {
   "cell_type": "markdown",
   "id": "d54da16f-ddaa-413d-9848-d8b4efbb2f64",
   "metadata": {},
   "source": [
    "Next, we configure the container image to be used for the region that we are running in."
   ]
  },
  {
   "cell_type": "code",
   "execution_count": 50,
   "id": "38974c5d-3d85-4933-bd9a-642e4c86f515",
   "metadata": {},
   "outputs": [],
   "source": [
    "image_name = sagemaker.image_uris.retrieve(\"forecasting-deepar\", region) # Defines which alogrithm to use"
   ]
  },
  {
   "cell_type": "markdown",
   "id": "2fe1b27d-235c-4b82-b2d2-9ea4a1a92351",
   "metadata": {
    "tags": []
   },
   "source": [
    "---\n",
    "## **Data** \n",
    "The dataset used in this project, is from the [StockX 2019 Data Contest](https://www.kaggle.com/datasets/hudsonstuck/stockx-data-contest).\n",
    "\n",
    "The data consists of a random sample of all Off-White x Nike and Yeezy 350 sales from between 9/1/2017 (the month that Off-White first debuted “The Ten” collection) and the present. There are 99,956 total sales in the data set; 27,794 Off-White sales, and 72,162 Yeezy sales. The sample consists of U.S. sales only."
   ]
  },
  {
   "cell_type": "code",
   "execution_count": 51,
   "id": "c5ce356e-276f-480d-8736-e1958f9da12e",
   "metadata": {},
   "outputs": [
    {
     "name": "stdout",
     "output_type": "stream",
     "text": [
      "Downloading stockx-data-contest.zip to /root/stockx_sneaker_prices\n",
      "  0%|                                                | 0.00/711k [00:00<?, ?B/s]\n",
      "100%|████████████████████████████████████████| 711k/711k [00:00<00:00, 7.58MB/s]\n"
     ]
    }
   ],
   "source": [
    "#!kaggle datasets list # List available datasets\n",
    "!kaggle datasets download -d hudsonstuck/stockx-data-contest --unzip # Downloads & Unzip dataset"
   ]
  },
  {
   "cell_type": "markdown",
   "id": "639b34af-8464-4293-980d-180b3735b8cc",
   "metadata": {},
   "source": [
    "Now that the dataset is downloaded, let us visualize what the data looks like. "
   ]
  },
  {
   "cell_type": "code",
   "execution_count": 52,
   "id": "65ebf8b2-62ff-486d-8738-13878611511a",
   "metadata": {},
   "outputs": [
    {
     "data": {
      "text/html": [
       "<div>\n",
       "<style scoped>\n",
       "    .dataframe tbody tr th:only-of-type {\n",
       "        vertical-align: middle;\n",
       "    }\n",
       "\n",
       "    .dataframe tbody tr th {\n",
       "        vertical-align: top;\n",
       "    }\n",
       "\n",
       "    .dataframe thead th {\n",
       "        text-align: right;\n",
       "    }\n",
       "</style>\n",
       "<table border=\"1\" class=\"dataframe\">\n",
       "  <thead>\n",
       "    <tr style=\"text-align: right;\">\n",
       "      <th></th>\n",
       "      <th>Order Date</th>\n",
       "      <th>Brand</th>\n",
       "      <th>Sneaker Name</th>\n",
       "      <th>Sale Price</th>\n",
       "      <th>Retail Price</th>\n",
       "      <th>Release Date</th>\n",
       "      <th>Shoe Size</th>\n",
       "      <th>Buyer Region</th>\n",
       "    </tr>\n",
       "  </thead>\n",
       "  <tbody>\n",
       "    <tr>\n",
       "      <th>0</th>\n",
       "      <td>2017-09-01</td>\n",
       "      <td>Yeezy</td>\n",
       "      <td>Adidas-Yeezy-Boost-350-Low-V2-Beluga</td>\n",
       "      <td>$1,097</td>\n",
       "      <td>$220</td>\n",
       "      <td>2016-09-24</td>\n",
       "      <td>11.0</td>\n",
       "      <td>California</td>\n",
       "    </tr>\n",
       "    <tr>\n",
       "      <th>1</th>\n",
       "      <td>2017-09-01</td>\n",
       "      <td>Yeezy</td>\n",
       "      <td>Adidas-Yeezy-Boost-350-V2-Core-Black-Copper</td>\n",
       "      <td>$685</td>\n",
       "      <td>$220</td>\n",
       "      <td>2016-11-23</td>\n",
       "      <td>11.0</td>\n",
       "      <td>California</td>\n",
       "    </tr>\n",
       "    <tr>\n",
       "      <th>2</th>\n",
       "      <td>2017-09-01</td>\n",
       "      <td>Yeezy</td>\n",
       "      <td>Adidas-Yeezy-Boost-350-V2-Core-Black-Green</td>\n",
       "      <td>$690</td>\n",
       "      <td>$220</td>\n",
       "      <td>2016-11-23</td>\n",
       "      <td>11.0</td>\n",
       "      <td>California</td>\n",
       "    </tr>\n",
       "    <tr>\n",
       "      <th>3</th>\n",
       "      <td>2017-09-01</td>\n",
       "      <td>Yeezy</td>\n",
       "      <td>Adidas-Yeezy-Boost-350-V2-Core-Black-Red</td>\n",
       "      <td>$1,075</td>\n",
       "      <td>$220</td>\n",
       "      <td>2016-11-23</td>\n",
       "      <td>11.5</td>\n",
       "      <td>Kentucky</td>\n",
       "    </tr>\n",
       "    <tr>\n",
       "      <th>4</th>\n",
       "      <td>2017-09-01</td>\n",
       "      <td>Yeezy</td>\n",
       "      <td>Adidas-Yeezy-Boost-350-V2-Core-Black-Red-2017</td>\n",
       "      <td>$828</td>\n",
       "      <td>$220</td>\n",
       "      <td>2017-02-11</td>\n",
       "      <td>11.0</td>\n",
       "      <td>Rhode Island</td>\n",
       "    </tr>\n",
       "  </tbody>\n",
       "</table>\n",
       "</div>"
      ],
      "text/plain": [
       "  Order Date   Brand                                   Sneaker Name  \\\n",
       "0 2017-09-01   Yeezy           Adidas-Yeezy-Boost-350-Low-V2-Beluga   \n",
       "1 2017-09-01   Yeezy    Adidas-Yeezy-Boost-350-V2-Core-Black-Copper   \n",
       "2 2017-09-01   Yeezy     Adidas-Yeezy-Boost-350-V2-Core-Black-Green   \n",
       "3 2017-09-01   Yeezy       Adidas-Yeezy-Boost-350-V2-Core-Black-Red   \n",
       "4 2017-09-01   Yeezy  Adidas-Yeezy-Boost-350-V2-Core-Black-Red-2017   \n",
       "\n",
       "  Sale Price Retail Price Release Date  Shoe Size  Buyer Region  \n",
       "0     $1,097         $220   2016-09-24       11.0    California  \n",
       "1       $685         $220   2016-11-23       11.0    California  \n",
       "2       $690         $220   2016-11-23       11.0    California  \n",
       "3     $1,075         $220   2016-11-23       11.5      Kentucky  \n",
       "4       $828         $220   2017-02-11       11.0  Rhode Island  "
      ]
     },
     "execution_count": 52,
     "metadata": {},
     "output_type": "execute_result"
    }
   ],
   "source": [
    "initial_data = pd.read_csv('StockX-Data-Contest-2019-3.csv', header = 0, parse_dates=['Order Date', 'Release Date'])\n",
    "df = initial_data.copy()\n",
    "df.head() # Display first 5 rows"
   ]
  },
  {
   "cell_type": "markdown",
   "id": "d019c89c-a4e8-4999-8626-756fa062de46",
   "metadata": {},
   "source": [
    "### Data Cleaning \n",
    "The data is already somewhat nicely formatted for us, but there are still a few cleaning we have to do. \n",
    "\n",
    "1. Remove dashes ('-') from Sneaker Name \n",
    "1. Remove dollar sign ('$') and comma (',') from prices (Sales Price, Retail Price)\n",
    "1. Convert Sale Price and Retail Price to type float64"
   ]
  },
  {
   "cell_type": "code",
   "execution_count": 37,
   "id": "16f5cb76-bc17-4ea4-a919-5b254fecd009",
   "metadata": {},
   "outputs": [],
   "source": [
    "# Remove dashes ('-') from Sneaker Name \n",
    "df['Sneaker Name'] = df['Sneaker Name'].apply(lambda x: x.replace('-', ' '))"
   ]
  },
  {
   "cell_type": "code",
   "execution_count": 53,
   "id": "86be19b1-353b-4de5-b9b4-9d4db61d53b8",
   "metadata": {},
   "outputs": [],
   "source": [
    "# Remove dollar sign ('$') and comma (',') from prices (Sales Price, Retail Price) \n",
    "# Converts values to type float64\n",
    "df['Sale Price'] = df['Sale Price'].apply(lambda x: x.replace('$', ''))\n",
    "df['Sale Price'] = df['Sale Price'].apply(lambda x: x.replace(',', ''))\n",
    "df['Sale Price'] = df['Sale Price'].astype(float)\n",
    "df['Retail Price'] = df['Retail Price'].apply(lambda x: x.replace('$', ''))\n",
    "df['Retail Price'] = df['Retail Price'].apply(lambda x: x.replace(',', ''))\n",
    "df['Retail Price'] = df['Retail Price'].astype(float)"
   ]
  },
  {
   "cell_type": "code",
   "execution_count": 54,
   "id": "1f2a687c-b723-4a6e-ba80-2b58240ed8af",
   "metadata": {},
   "outputs": [],
   "source": [
    "# Renaming columns to remove spaces \n",
    "df = df.rename(columns={\n",
    "    \"Order Date\": \"order_date\",\n",
    "    \"Brand\": \"brand\",\n",
    "    \"Sneaker Name\": \"sneaker_name\",\n",
    "    \"Sale Price\": \"sale_price\",\n",
    "    \"Retail Price\": \"retail_price\",\n",
    "    \"Release Date\": \"release_date\",\n",
    "    \"Shoe Size\": \"shoe_size\",\n",
    "    \"Buyer Region\": \"buyer_region\"\n",
    "    })"
   ]
  },
  {
   "cell_type": "code",
   "execution_count": 56,
   "id": "97d7b3ea-31cd-4684-a4c5-30e0add5294a",
   "metadata": {},
   "outputs": [],
   "source": [
    "# Convert Categorical Values to numeric\n",
    "clean_data = pd.get_dummies(df, columns=['sneaker_name'])\n",
    "#clean_data.head()"
   ]
  },
  {
   "cell_type": "markdown",
   "id": "6c390a2e-8119-4a2b-8aa4-b1daf917a10f",
   "metadata": {},
   "source": [
    "### Visualization of Data\n",
    "Now that the data is perfeclty formatted, we can illustrate the insights below. \n",
    "\n",
    "1. Average Daily Sales "
   ]
  },
  {
   "cell_type": "code",
   "execution_count": 57,
   "id": "f7408201-26d2-475a-91aa-9ba2bf8e97b8",
   "metadata": {},
   "outputs": [
    {
     "data": {
      "image/png": "[encoded data removed]",
      "text/plain": [
       "<Figure size 1200x600 with 1 Axes>"
      ]
     },
     "metadata": {},
     "output_type": "display_data"
    }
   ],
   "source": [
    "daily_sales = df.resample('D', on='order_date')['sale_price'].mean()\n",
    "\n",
    "plt.figure(figsize=(12,6))\n",
    "daily_sales.plot(title='Average Daily Sales', color='blue')\n",
    "plt.show()"
   ]
  },
  {
   "cell_type": "markdown",
   "id": "aa81bb7c-181a-4e3b-870c-b5da45d4eb16",
   "metadata": {},
   "source": [
    "### Train & Test Splits"
   ]
  },
  {
   "cell_type": "markdown",
   "id": "0c0358d4-03d2-4241-98eb-0fbd2f318853",
   "metadata": {},
   "source": [
    "Before we can run the DeepAR algorithm, we need to do one final prepartion, split data by time series for training and test and lastly\n",
    "converting the data frames to JSON format. DeepAR expects input training data to be JSON fields.\n",
    "You can see more on their [documentation](https://docs.aws.amazon.com/sagemaker/latest/dg/deepar-in-formats.html)"
   ]
  },
  {
   "cell_type": "markdown",
   "id": "eda28c8a-6414-43c4-8dfe-a554150c764b",
   "metadata": {},
   "source": [
    "We specify what section of the data is used for model training: the model sees data from 2017-09-01 to 2018-05-01."
   ]
  },
  {
   "cell_type": "code",
   "execution_count": 87,
   "id": "ce3faad4-8b12-4c11-b186-d6ed33a8b5cb",
   "metadata": {},
   "outputs": [
    {
     "name": "stderr",
     "output_type": "stream",
     "text": [
      "/opt/conda/lib/python3.7/site-packages/ipykernel_launcher.py:10: FutureWarning: The 'freq' argument in Timestamp is deprecated and will be removed in a future version.\n",
      "  # Remove the CWD from sys.path while we load stuff.\n",
      "/opt/conda/lib/python3.7/site-packages/ipykernel_launcher.py:11: FutureWarning: The 'freq' argument in Timestamp is deprecated and will be removed in a future version.\n",
      "  # This is added back by InteractiveShellApp.init_path()\n"
     ]
    }
   ],
   "source": [
    "# Using daily frequency\n",
    "freq = \"D\"\n",
    "\n",
    "# we predict for 7 days\n",
    "prediction_length = 7 * 12\n",
    "\n",
    "# we also use 7 days as context length, this is the number of state updates accomplished before making predictions\n",
    "context_length = 7 * 12\n",
    "\n",
    "start_dataset = pd.Timestamp(\"2017-09-01 00:00:00\", freq)\n",
    "end_training = pd.Timestamp(\"2018-05-01 00:00:00\", freq)\n",
    "\n",
    "#clean_data.set_index('order_date', inplace=True)\n",
    "\n",
    "training_data = [{\"start\": str(start_dataset), \"target\": clean_data[start_dataset : end_training - timedelta(days=1)].sale_price.values.tolist()}]\n",
    "test_data = [{\"start\": str(start_dataset), \"target\": clean_data[start_dataset : end_training + timedelta(days=1 * prediction_length)].sale_price.values.tolist()}]"
   ]
  },
  {
   "cell_type": "markdown",
   "id": "52525e65-e8ef-4ed3-96d8-840c916e201d",
   "metadata": {},
   "source": [
    "Now lets write the dictionary to JSON files so DeepAR can comprehend the dataset."
   ]
  },
  {
   "cell_type": "code",
   "execution_count": 88,
   "id": "c4f1642c-636a-4f96-8661-e76703650c82",
   "metadata": {},
   "outputs": [],
   "source": [
    "def write_dicts_to_file(path, data):\n",
    "    with open(path, \"wb\") as fp:\n",
    "        for d in data:\n",
    "            fp.write(json.dumps(d).encode(\"utf-8\"))\n",
    "            fp.write(\"\\n\".encode(\"utf-8\"))"
   ]
  },
  {
   "cell_type": "code",
   "execution_count": 89,
   "id": "b7eda3b3-272b-4758-b555-f3564a9a684a",
   "metadata": {},
   "outputs": [
    {
     "name": "stdout",
     "output_type": "stream",
     "text": [
      "CPU times: user 17.1 ms, sys: 157 µs, total: 17.2 ms\n",
      "Wall time: 75 ms\n"
     ]
    }
   ],
   "source": [
    "%%time\n",
    "write_dicts_to_file(\"train.json\", training_data)\n",
    "write_dicts_to_file(\"test.json\", test_data)"
   ]
  },
  {
   "cell_type": "markdown",
   "id": "90b1ac12-1174-499a-bf7e-731bbcf49789",
   "metadata": {},
   "source": [
    "Now that we have the data files locally, let us copy them to S3 where DeepAR can access them. \n",
    "Depending on your network connection, this may take a couple of minutes."
   ]
  },
  {
   "cell_type": "code",
   "execution_count": 91,
   "id": "5b17daf7-88aa-4f2a-89af-e1c272244a97",
   "metadata": {},
   "outputs": [],
   "source": [
    "s3 = boto3.resource(\"s3\")\n",
    "\n",
    "\n",
    "def copy_to_s3(local_file, s3_path, override=False):\n",
    "    assert s3_path.startswith(\"s3://\")\n",
    "    split = s3_path.split(\"/\")\n",
    "    bucket = split[2]\n",
    "    path = \"/\".join(split[3:])\n",
    "    buk = s3.Bucket(bucket)\n",
    "\n",
    "    if len(list(buk.objects.filter(Prefix=path))) > 0:\n",
    "        if not override:\n",
    "            print(\n",
    "                \"File s3://{}/{} already exists.\\nSet override to upload anyway.\\n\".format(\n",
    "                    s3_bucket, s3_path\n",
    "                )\n",
    "            )\n",
    "            return\n",
    "        else:\n",
    "            print(\"Overwriting existing file\")\n",
    "    with open(local_file, \"rb\") as data:\n",
    "        print(\"Uploading file to {}\".format(s3_path))\n",
    "        buk.put_object(Key=path, Body=data)"
   ]
  },
  {
   "cell_type": "code",
   "execution_count": 99,
   "id": "2ab986c7-5905-4803-8eea-f1e745d28dd2",
   "metadata": {},
   "outputs": [
    {
     "name": "stdout",
     "output_type": "stream",
     "text": [
      "Uploading file to s3://sagemaker-us-east-1-155047035098/stockx_sneaker_prices/data/train/train.json\n",
      "Uploading file to s3://sagemaker-us-east-1-155047035098/stockx_sneaker_prices/data/test/test.json\n",
      "CPU times: user 30.8 ms, sys: 0 ns, total: 30.8 ms\n",
      "Wall time: 180 ms\n"
     ]
    }
   ],
   "source": [
    "%%time\n",
    "\n",
    "copy_to_s3(\"train.json\", s3_data_path + \"/train/train.json\")\n",
    "copy_to_s3(\"test.json\", s3_data_path + \"/test/test.json\")"
   ]
  },
  {
   "cell_type": "markdown",
   "id": "e5cbb06d-bb90-431b-94e9-32ccbb281261",
   "metadata": {},
   "source": [
    "Let’s have a look to what we just wrote to S3."
   ]
  },
  {
   "cell_type": "code",
   "execution_count": 100,
   "id": "0406aee5-9f85-4a87-b189-91db92751bc6",
   "metadata": {},
   "outputs": [
    {
     "name": "stdout",
     "output_type": "stream",
     "text": [
      "{\"start\": \"2017-09-01 00:00:00\", \"target\": [1097.0, 685.0, 690.0, 1075.0, 828.0, 798.0, 784.0, 460.0...\n"
     ]
    }
   ],
   "source": [
    "s3_sample = s3.Object(s3_bucket, s3_prefix + \"/data/train/train.json\").get()[\"Body\"].read()\n",
    "StringVariable = s3_sample.decode(\"UTF-8\", \"ignore\")\n",
    "lines = StringVariable.split(\"\\n\")\n",
    "print(lines[0][:100] + \"...\")"
   ]
  },
  {
   "cell_type": "markdown",
   "id": "23be2949-ae77-4d96-a260-ef2e8e3d77e8",
   "metadata": {},
   "source": [
    "---\n",
    "## **Train**"
   ]
  },
  {
   "cell_type": "markdown",
   "id": "9ffe93c1-2fbd-47aa-a72e-f72fc4bff967",
   "metadata": {},
   "source": [
    "Now that we are completed with data cleaning and processing, we can get to the fun part to train the model and predict results."
   ]
  },
  {
   "cell_type": "code",
   "execution_count": 103,
   "id": "6865c3ec-91b6-48f7-998b-83ca43931e9b",
   "metadata": {},
   "outputs": [
    {
     "name": "stdout",
     "output_type": "stream",
     "text": [
      "<sagemaker.estimator.Estimator object at 0x7f59df7e34d0>\n"
     ]
    }
   ],
   "source": [
    "estimator = sagemaker.estimator.Estimator(\n",
    "    image_uri=image_name,\n",
    "    sagemaker_session=sagemaker_session,\n",
    "    role=role,\n",
    "    instance_count=1,\n",
    "    instance_type=\"ml.c4.2xlarge\",\n",
    "    base_job_name=\"stockx_sneaker_prices\",\n",
    "    output_path=s3_output_path,\n",
    ")\n",
    "\n",
    "print(estimator)"
   ]
  },
  {
   "cell_type": "code",
   "execution_count": null,
   "id": "562d0e7f-68a1-4cbd-956c-f0bfa24b6b73",
   "metadata": {},
   "outputs": [],
   "source": []
  }
 ],
 "metadata": {
  "instance_type": "ml.t3.medium",
  "kernelspec": {
   "display_name": "Python 3 (Data Science)",
   "language": "python",
   "name": "python3__SAGEMAKER_INTERNAL__arn:aws:sagemaker:us-east-1:081325390199:image/datascience-1.0"
  },
  "language_info": {
   "codemirror_mode": {
    "name": "ipython",
    "version": 3
   },
   "file_extension": ".py",
   "mimetype": "text/x-python",
   "name": "python",
   "nbconvert_exporter": "python",
   "pygments_lexer": "ipython3",
   "version": "3.7.10"
  }
 },
 "nbformat": 4,
 "nbformat_minor": 5
}
